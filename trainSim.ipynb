{
 "cells": [
  {
   "cell_type": "code",
   "execution_count": 3,
   "metadata": {},
   "outputs": [],
   "source": [
    "background = '0'\n",
    "NORTH = 0\n",
    "EAST = 1\n",
    "SOUTH = 2\n",
    "WEST = 3\n",
    "class cellElement():\n",
    "\n",
    "    def setPosition(self, x, y):\n",
    "        return\n",
    "    def setOrientation(self, a):\n",
    "        return\n",
    "    def switchState(self):\n",
    "        return\n",
    "    def getDuration(self, entdir):\n",
    "        return\n",
    "    def getStop(self, entdir):\n",
    "        return\n",
    "    def nextCell(self,entdir):\n",
    "        return\n",
    "    def setNextCWRotation(self):\n",
    "        return   \n",
    "    def getView():\n",
    "        return\n",
    "\n",
    "\n",
    "class regularRoad(cellElement):\n",
    "    def __init__(self, isStraight):\n",
    "        self.visuals = 'R'\n",
    "        self.rotationCount = 0\n",
    "        if(isStraight):\n",
    "            self.dir1 = SOUTH\n",
    "            self.dir2 = NORTH\n",
    "        else: # default is a Right turn as in the pdf.\n",
    "            # rotate this one to get a left turn if needed\n",
    "            self.dir1 = SOUTH\n",
    "            self.dir2 = EAST\n",
    "        return\n",
    "\n",
    "    def setPosition(self, x, y):\n",
    "        self.x = x\n",
    "        self.y = y\n",
    "        return    \n",
    "    def setCwRot(self):\n",
    "        self.dir1 = (self.dir1 + 1) % 4\n",
    "        self.dir2 = (self.dir2 + 1) % 4\n",
    "        return\n",
    "\n",
    "    def setOrientation(self, rotationAmount):\n",
    "        for i in range(0, rotationAmount):\n",
    "            setCwRot(self)\n",
    "        return\n",
    "\n",
    "\n",
    "    def switchState(self):\n",
    "        return\n",
    "    def getDuration(self, entdir):\n",
    "        return\n",
    "    def getStop(self, entdir):\n",
    "        return\n",
    "    def nextCell(self,entdir):\n",
    "        return\n",
    "    def getView():\n",
    "        return    \n",
    "\n",
    "\n",
    "\n",
    "\n"
   ]
  },
  {
   "cell_type": "code",
   "execution_count": 6,
   "metadata": {},
   "outputs": [
    {
     "name": "stdout",
     "output_type": "stream",
     "text": [
      "2 0\n"
     ]
    },
    {
     "ename": "NameError",
     "evalue": "name 'setNextCWRotation' is not defined",
     "output_type": "error",
     "traceback": [
      "\u001b[1;31m---------------------------------------------------------------------------\u001b[0m",
      "\u001b[1;31mNameError\u001b[0m                                 Traceback (most recent call last)",
      "\u001b[1;32m~\\AppData\\Local\\Temp/ipykernel_7996/2112764919.py\u001b[0m in \u001b[0;36m<module>\u001b[1;34m\u001b[0m\n\u001b[0;32m      8\u001b[0m \u001b[1;33m\u001b[0m\u001b[0m\n\u001b[0;32m      9\u001b[0m \u001b[0morientTest\u001b[0m \u001b[1;33m=\u001b[0m \u001b[0mTests\u001b[0m\u001b[1;33m(\u001b[0m\u001b[1;33m)\u001b[0m\u001b[1;33m\u001b[0m\u001b[1;33m\u001b[0m\u001b[0m\n\u001b[1;32m---> 10\u001b[1;33m \u001b[0morientTest\u001b[0m\u001b[1;33m.\u001b[0m\u001b[0mtestRegularRoadOrientation\u001b[0m\u001b[1;33m(\u001b[0m\u001b[1;36m1\u001b[0m\u001b[1;33m)\u001b[0m\u001b[1;33m\u001b[0m\u001b[1;33m\u001b[0m\u001b[0m\n\u001b[0m",
      "\u001b[1;32m~\\AppData\\Local\\Temp/ipykernel_7996/2112764919.py\u001b[0m in \u001b[0;36mtestRegularRoadOrientation\u001b[1;34m(self, rotCount)\u001b[0m\n\u001b[0;32m      3\u001b[0m         \u001b[0mr\u001b[0m\u001b[1;33m=\u001b[0m\u001b[0mregularRoad\u001b[0m\u001b[1;33m(\u001b[0m\u001b[1;32mTrue\u001b[0m\u001b[1;33m)\u001b[0m\u001b[1;33m\u001b[0m\u001b[1;33m\u001b[0m\u001b[0m\n\u001b[0;32m      4\u001b[0m         \u001b[0mprint\u001b[0m\u001b[1;33m(\u001b[0m\u001b[0mr\u001b[0m\u001b[1;33m.\u001b[0m\u001b[0mdir1\u001b[0m\u001b[1;33m,\u001b[0m\u001b[0mr\u001b[0m\u001b[1;33m.\u001b[0m\u001b[0mdir2\u001b[0m\u001b[1;33m)\u001b[0m\u001b[1;33m\u001b[0m\u001b[1;33m\u001b[0m\u001b[0m\n\u001b[1;32m----> 5\u001b[1;33m         \u001b[0mr\u001b[0m\u001b[1;33m.\u001b[0m\u001b[0msetOrientation\u001b[0m\u001b[1;33m(\u001b[0m\u001b[1;36m1\u001b[0m\u001b[1;33m)\u001b[0m\u001b[1;33m\u001b[0m\u001b[1;33m\u001b[0m\u001b[0m\n\u001b[0m\u001b[0;32m      6\u001b[0m         \u001b[0mprint\u001b[0m\u001b[1;33m(\u001b[0m\u001b[0mr\u001b[0m\u001b[1;33m.\u001b[0m\u001b[0mdir1\u001b[0m\u001b[1;33m,\u001b[0m\u001b[0mr\u001b[0m\u001b[1;33m.\u001b[0m\u001b[0mdir2\u001b[0m\u001b[1;33m)\u001b[0m\u001b[1;33m\u001b[0m\u001b[1;33m\u001b[0m\u001b[0m\n\u001b[0;32m      7\u001b[0m \u001b[1;33m\u001b[0m\u001b[0m\n",
      "\u001b[1;32m~\\AppData\\Local\\Temp/ipykernel_7996/617398200.py\u001b[0m in \u001b[0;36msetOrientation\u001b[1;34m(self, rotationAmount)\u001b[0m\n\u001b[0;32m     45\u001b[0m     \u001b[1;32mdef\u001b[0m \u001b[0msetOrientation\u001b[0m\u001b[1;33m(\u001b[0m\u001b[0mself\u001b[0m\u001b[1;33m,\u001b[0m \u001b[0mrotationAmount\u001b[0m\u001b[1;33m)\u001b[0m\u001b[1;33m:\u001b[0m\u001b[1;33m\u001b[0m\u001b[1;33m\u001b[0m\u001b[0m\n\u001b[0;32m     46\u001b[0m         \u001b[1;32mfor\u001b[0m \u001b[0mi\u001b[0m \u001b[1;32min\u001b[0m \u001b[0mrange\u001b[0m\u001b[1;33m(\u001b[0m\u001b[1;36m0\u001b[0m\u001b[1;33m,\u001b[0m \u001b[0mrotationAmount\u001b[0m\u001b[1;33m)\u001b[0m\u001b[1;33m:\u001b[0m\u001b[1;33m\u001b[0m\u001b[1;33m\u001b[0m\u001b[0m\n\u001b[1;32m---> 47\u001b[1;33m             \u001b[0msetNextCWRotation\u001b[0m\u001b[1;33m(\u001b[0m\u001b[0mself\u001b[0m\u001b[1;33m)\u001b[0m\u001b[1;33m\u001b[0m\u001b[1;33m\u001b[0m\u001b[0m\n\u001b[0m\u001b[0;32m     48\u001b[0m         \u001b[1;32mreturn\u001b[0m\u001b[1;33m\u001b[0m\u001b[1;33m\u001b[0m\u001b[0m\n\u001b[0;32m     49\u001b[0m \u001b[1;33m\u001b[0m\u001b[0m\n",
      "\u001b[1;31mNameError\u001b[0m: name 'setNextCWRotation' is not defined"
     ]
    }
   ],
   "source": [
    "class Tests():\n",
    "    def testRegularRoadOrientation(self, rotCount):\n",
    "        r=regularRoad(True)\n",
    "        print(r.dir1,r.dir2)\n",
    "        r.setOrientation(1)\n",
    "        print(r.dir1,r.dir2)\n",
    "\n",
    "\n",
    "orientTest = Tests()\n",
    "orientTest.testRegularRoadOrientation(1)\n"
   ]
  },
  {
   "cell_type": "code",
   "execution_count": 9,
   "metadata": {},
   "outputs": [],
   "source": [
    "class GameGrid():\n",
    "    gx = 0\n",
    "\n",
    "    def __init__ (self, height, width):\n",
    "        self.height = height\n",
    "        self.width = width\n",
    "        self.grid = []\n",
    "        self.view = []\n",
    "        for i in range(0, height):\n",
    "            self.grid.append([])\n",
    "            self.view.append([])\n",
    "            for j in range(0, width):\n",
    "                c = cellElement(background)\n",
    "                self.grid[i].append(c)\n",
    "                self.view[i].append(c.display)\n",
    "\n",
    "\n",
    "    def addElement(self, cellElm : cellElement, x, y):\n",
    "        self.grid[x][y] = cellElm\n",
    "        self.view[x][y] = cellElm.display\n",
    "        return\n",
    "\n",
    "    def removeElement(self, x, y):\n",
    "        empty = cellElement(background)\n",
    "        self.grid[x][y] = empty\n",
    "        self.view[x][y] = empty.display\n",
    "        return\n",
    "\n",
    "    def display(self):\n",
    "        for i in range(0,self.height):\n",
    "            for j in range(0, self.width):\n",
    "                print(self.view[i][j], end=' ')\n",
    "            print('\\n')\n",
    "\n",
    "    def updateView(self):\n",
    "        return\n",
    "\n",
    "    def startSimulation(self): \n",
    "        return\n",
    "\n",
    "    def setPauseResume(self):\n",
    "        return\n",
    "\n",
    "    def stopSimulation(self):\n",
    "        return\n"
   ]
  },
  {
   "cell_type": "markdown",
   "metadata": {},
   "source": []
  },
  {
   "cell_type": "code",
   "execution_count": 10,
   "metadata": {},
   "outputs": [
    {
     "ename": "TypeError",
     "evalue": "cellElement() takes no arguments",
     "output_type": "error",
     "traceback": [
      "\u001b[1;31m---------------------------------------------------------------------------\u001b[0m",
      "\u001b[1;31mTypeError\u001b[0m                                 Traceback (most recent call last)",
      "\u001b[1;32m~\\AppData\\Local\\Temp/ipykernel_156/539281110.py\u001b[0m in \u001b[0;36m<module>\u001b[1;34m\u001b[0m\n\u001b[1;32m----> 1\u001b[1;33m \u001b[0mg\u001b[0m \u001b[1;33m=\u001b[0m \u001b[0mGameGrid\u001b[0m\u001b[1;33m(\u001b[0m\u001b[1;36m10\u001b[0m\u001b[1;33m,\u001b[0m\u001b[1;36m10\u001b[0m\u001b[1;33m)\u001b[0m\u001b[1;33m\u001b[0m\u001b[1;33m\u001b[0m\u001b[0m\n\u001b[0m",
      "\u001b[1;32m~\\AppData\\Local\\Temp/ipykernel_156/1977705559.py\u001b[0m in \u001b[0;36m__init__\u001b[1;34m(self, height, width)\u001b[0m\n\u001b[0;32m     11\u001b[0m             \u001b[0mself\u001b[0m\u001b[1;33m.\u001b[0m\u001b[0mview\u001b[0m\u001b[1;33m.\u001b[0m\u001b[0mappend\u001b[0m\u001b[1;33m(\u001b[0m\u001b[1;33m[\u001b[0m\u001b[1;33m]\u001b[0m\u001b[1;33m)\u001b[0m\u001b[1;33m\u001b[0m\u001b[1;33m\u001b[0m\u001b[0m\n\u001b[0;32m     12\u001b[0m             \u001b[1;32mfor\u001b[0m \u001b[0mj\u001b[0m \u001b[1;32min\u001b[0m \u001b[0mrange\u001b[0m\u001b[1;33m(\u001b[0m\u001b[1;36m0\u001b[0m\u001b[1;33m,\u001b[0m \u001b[0mwidth\u001b[0m\u001b[1;33m)\u001b[0m\u001b[1;33m:\u001b[0m\u001b[1;33m\u001b[0m\u001b[1;33m\u001b[0m\u001b[0m\n\u001b[1;32m---> 13\u001b[1;33m                 \u001b[0mc\u001b[0m \u001b[1;33m=\u001b[0m \u001b[0mcellElement\u001b[0m\u001b[1;33m(\u001b[0m\u001b[0mbackground\u001b[0m\u001b[1;33m)\u001b[0m\u001b[1;33m\u001b[0m\u001b[1;33m\u001b[0m\u001b[0m\n\u001b[0m\u001b[0;32m     14\u001b[0m                 \u001b[0mself\u001b[0m\u001b[1;33m.\u001b[0m\u001b[0mgrid\u001b[0m\u001b[1;33m[\u001b[0m\u001b[0mi\u001b[0m\u001b[1;33m]\u001b[0m\u001b[1;33m.\u001b[0m\u001b[0mappend\u001b[0m\u001b[1;33m(\u001b[0m\u001b[0mc\u001b[0m\u001b[1;33m)\u001b[0m\u001b[1;33m\u001b[0m\u001b[1;33m\u001b[0m\u001b[0m\n\u001b[0;32m     15\u001b[0m                 \u001b[0mself\u001b[0m\u001b[1;33m.\u001b[0m\u001b[0mview\u001b[0m\u001b[1;33m[\u001b[0m\u001b[0mi\u001b[0m\u001b[1;33m]\u001b[0m\u001b[1;33m.\u001b[0m\u001b[0mappend\u001b[0m\u001b[1;33m(\u001b[0m\u001b[0mc\u001b[0m\u001b[1;33m.\u001b[0m\u001b[0mdisplay\u001b[0m\u001b[1;33m)\u001b[0m\u001b[1;33m\u001b[0m\u001b[1;33m\u001b[0m\u001b[0m\n",
      "\u001b[1;31mTypeError\u001b[0m: cellElement() takes no arguments"
     ]
    }
   ],
   "source": [
    "g = GameGrid(10,10)"
   ]
  },
  {
   "cell_type": "code",
   "execution_count": null,
   "metadata": {},
   "outputs": [
    {
     "name": "stdout",
     "output_type": "stream",
     "text": [
      "0 c 0 0 0 0 0 0 0 0 \n",
      "\n",
      "0 0 0 0 0 0 0 0 0 0 \n",
      "\n",
      "0 0 0 0 0 0 0 0 0 0 \n",
      "\n",
      "0 0 0 0 0 0 0 0 0 0 \n",
      "\n",
      "0 0 0 0 0 0 0 0 0 0 \n",
      "\n",
      "0 0 0 0 W 0 0 0 0 0 \n",
      "\n",
      "0 0 0 0 0 0 0 0 0 0 \n",
      "\n",
      "0 0 0 0 0 0 0 0 0 0 \n",
      "\n",
      "0 0 0 0 0 0 0 0 0 0 \n",
      "\n",
      "0 0 0 0 0 0 0 0 0 0 \n",
      "\n"
     ]
    }
   ],
   "source": [
    "c1 = cellElement('c')\n",
    "c2 = cellElement('A')\n",
    "\n",
    "g.addElement(c1,0,1)\n",
    "g.addElement(c2,5,4)\n",
    "\n",
    "g.removeElement(5,4)\n",
    "g.addElement(cellElement('W'), 5, 4)\n",
    "g.display()"
   ]
  },
  {
   "cell_type": "code",
   "execution_count": null,
   "metadata": {},
   "outputs": [],
   "source": []
  }
 ],
 "metadata": {
  "interpreter": {
   "hash": "0adcc2737ebf6a4a119f135174df96668767fca1ef1112612db5ecadf2b6d608"
  },
  "kernelspec": {
   "display_name": "Python 3.8.5 64-bit",
   "language": "python",
   "name": "python3"
  },
  "language_info": {
   "codemirror_mode": {
    "name": "ipython",
    "version": 3
   },
   "file_extension": ".py",
   "mimetype": "text/x-python",
   "name": "python",
   "nbconvert_exporter": "python",
   "pygments_lexer": "ipython3",
   "version": "3.10.0"
  },
  "orig_nbformat": 4
 },
 "nbformat": 4,
 "nbformat_minor": 2
}
